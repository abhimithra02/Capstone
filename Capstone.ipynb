{
  "nbformat": 4,
  "nbformat_minor": 0,
  "metadata": {
    "kernelspec": {
      "display_name": "Python 3",
      "language": "python",
      "name": "python3"
    },
    "language_info": {
      "codemirror_mode": {
        "name": "ipython",
        "version": 3
      },
      "file_extension": ".py",
      "mimetype": "text/x-python",
      "name": "python",
      "nbconvert_exporter": "python",
      "pygments_lexer": "ipython3",
      "version": "3.7.4"
    },
    "colab": {
      "name": "Capstone.ipynb",
      "provenance": [],
      "include_colab_link": true
    }
  },
  "cells": [
    {
      "cell_type": "markdown",
      "metadata": {
        "id": "view-in-github",
        "colab_type": "text"
      },
      "source": [
        "<a href=\"https://colab.research.google.com/github/abhimithra02/Capstone/blob/main/Capstone.ipynb\" target=\"_parent\"><img src=\"https://colab.research.google.com/assets/colab-badge.svg\" alt=\"Open In Colab\"/></a>"
      ]
    },
    {
      "cell_type": "code",
      "metadata": {
        "id": "t9LYrJSGH_Dz"
      },
      "source": [
        "import os\n",
        "import time\n",
        "import numpy as py\n",
        "import pylab as pl\n",
        "import pandas as pd\n",
        "import matplotlib.pyplot as plt\n",
        "import seaborn as sns;sns.set(style=\"ticks\",color_codes=True)\n",
        "\n",
        "from IPython.display import Image\n",
        "from collections import defaultdict\n",
        "from sklearn import svm,tree\n",
        "from sklearn.tree import export_graphviz\n",
        "from sklearn.model_selection import train_test_split,cross_val_score,GridSearchCV\n",
        "from sklearn.preprocessing import StandardScaler,MinMaxScaler\n",
        "from sklearn.metrics import classification_report,confusion_matrix,roc_curve,auc\n",
        "from sklearn.neighbors import KNeighborsClassifier\n",
        "from sklearn.ensemble import RandomForestClassifier\n",
        "from sklearn.feature_selection import RFE,SelectKBest,chi2,SelectFromModel\n",
        "from sklearn.linear_model import LogisticRegression\n",
        "from imblearn.over_sampling import SMOTE"
      ],
      "execution_count": null,
      "outputs": []
    },
    {
      "cell_type": "code",
      "metadata": {
        "id": "66LTe1KIH_D7"
      },
      "source": [
        "os.chdir(\"D:\\DATA\\Imartics\\Python\")"
      ],
      "execution_count": null,
      "outputs": []
    },
    {
      "cell_type": "code",
      "metadata": {
        "id": "IMONILvmH_D8",
        "outputId": "a8ee499b-c2d4-408a-a4fd-1c773915e821"
      },
      "source": [
        "colnames = ['existingchecking', 'duration', 'credithistory', 'purpose', \n",
        "            'creditamount', 'savings', 'employmentsince', 'installmentrate', \n",
        "            'statussex', 'otherdebtors', 'residencesince', 'property', 'age', \n",
        "            'otherinstallmentplans', 'housing', 'existingcredits', 'job',\n",
        "            'peopleliable', 'telephone', 'foreignworker', \n",
        "            'Defaulter_NonDefaulter']\n",
        "credit=pd.read_csv(\"german_credit.csv\",delimiter=',',names=colnames)\n",
        "print(credit.shape)\n",
        "print(credit.columns)"
      ],
      "execution_count": null,
      "outputs": [
        {
          "output_type": "stream",
          "text": [
            "(1000, 21)\n",
            "Index(['existingchecking', 'duration', 'credithistory', 'purpose',\n",
            "       'creditamount', 'savings', 'employmentsince', 'installmentrate',\n",
            "       'statussex', 'otherdebtors', 'residencesince', 'property', 'age',\n",
            "       'otherinstallmentplans', 'housing', 'existingcredits', 'job',\n",
            "       'peopleliable', 'telephone', 'foreignworker', 'Defaulter_NonDefaulter'],\n",
            "      dtype='object')\n"
          ],
          "name": "stdout"
        }
      ]
    },
    {
      "cell_type": "code",
      "metadata": {
        "id": "72yANeLkH_EA",
        "outputId": "26314104-3fe4-4435-e69c-6b8620a0e8cb"
      },
      "source": [
        "credit.head()"
      ],
      "execution_count": null,
      "outputs": [
        {
          "output_type": "execute_result",
          "data": {
            "text/html": [
              "<div>\n",
              "<style scoped>\n",
              "    .dataframe tbody tr th:only-of-type {\n",
              "        vertical-align: middle;\n",
              "    }\n",
              "\n",
              "    .dataframe tbody tr th {\n",
              "        vertical-align: top;\n",
              "    }\n",
              "\n",
              "    .dataframe thead th {\n",
              "        text-align: right;\n",
              "    }\n",
              "</style>\n",
              "<table border=\"1\" class=\"dataframe\">\n",
              "  <thead>\n",
              "    <tr style=\"text-align: right;\">\n",
              "      <th></th>\n",
              "      <th>existingchecking</th>\n",
              "      <th>duration</th>\n",
              "      <th>credithistory</th>\n",
              "      <th>purpose</th>\n",
              "      <th>creditamount</th>\n",
              "      <th>savings</th>\n",
              "      <th>employmentsince</th>\n",
              "      <th>installmentrate</th>\n",
              "      <th>statussex</th>\n",
              "      <th>otherdebtors</th>\n",
              "      <th>...</th>\n",
              "      <th>property</th>\n",
              "      <th>age</th>\n",
              "      <th>otherinstallmentplans</th>\n",
              "      <th>housing</th>\n",
              "      <th>existingcredits</th>\n",
              "      <th>job</th>\n",
              "      <th>peopleliable</th>\n",
              "      <th>telephone</th>\n",
              "      <th>foreignworker</th>\n",
              "      <th>Defaulter_NonDefaulter</th>\n",
              "    </tr>\n",
              "  </thead>\n",
              "  <tbody>\n",
              "    <tr>\n",
              "      <td>0</td>\n",
              "      <td>A11</td>\n",
              "      <td>6</td>\n",
              "      <td>A34</td>\n",
              "      <td>A43</td>\n",
              "      <td>1169.0</td>\n",
              "      <td>A65</td>\n",
              "      <td>A75</td>\n",
              "      <td>4</td>\n",
              "      <td>A93</td>\n",
              "      <td>A101</td>\n",
              "      <td>...</td>\n",
              "      <td>A121</td>\n",
              "      <td>67.0</td>\n",
              "      <td>A143</td>\n",
              "      <td>A152</td>\n",
              "      <td>2</td>\n",
              "      <td>A173</td>\n",
              "      <td>1</td>\n",
              "      <td>A192</td>\n",
              "      <td>A201</td>\n",
              "      <td>1</td>\n",
              "    </tr>\n",
              "    <tr>\n",
              "      <td>1</td>\n",
              "      <td>A12</td>\n",
              "      <td>48</td>\n",
              "      <td>A32</td>\n",
              "      <td>A43</td>\n",
              "      <td>5951.0</td>\n",
              "      <td>A61</td>\n",
              "      <td>A73</td>\n",
              "      <td>2</td>\n",
              "      <td>A92</td>\n",
              "      <td>A101</td>\n",
              "      <td>...</td>\n",
              "      <td>A121</td>\n",
              "      <td>22.0</td>\n",
              "      <td>A143</td>\n",
              "      <td>A152</td>\n",
              "      <td>1</td>\n",
              "      <td>A173</td>\n",
              "      <td>1</td>\n",
              "      <td>A191</td>\n",
              "      <td>A201</td>\n",
              "      <td>2</td>\n",
              "    </tr>\n",
              "    <tr>\n",
              "      <td>2</td>\n",
              "      <td>A14</td>\n",
              "      <td>12</td>\n",
              "      <td>A34</td>\n",
              "      <td>A46</td>\n",
              "      <td>2096.0</td>\n",
              "      <td>A61</td>\n",
              "      <td>A74</td>\n",
              "      <td>2</td>\n",
              "      <td>A93</td>\n",
              "      <td>A101</td>\n",
              "      <td>...</td>\n",
              "      <td>A121</td>\n",
              "      <td>49.0</td>\n",
              "      <td>A143</td>\n",
              "      <td>A152</td>\n",
              "      <td>1</td>\n",
              "      <td>A172</td>\n",
              "      <td>2</td>\n",
              "      <td>A191</td>\n",
              "      <td>A201</td>\n",
              "      <td>1</td>\n",
              "    </tr>\n",
              "    <tr>\n",
              "      <td>3</td>\n",
              "      <td>A11</td>\n",
              "      <td>42</td>\n",
              "      <td>A32</td>\n",
              "      <td>A42</td>\n",
              "      <td>7882.0</td>\n",
              "      <td>A61</td>\n",
              "      <td>A74</td>\n",
              "      <td>2</td>\n",
              "      <td>A93</td>\n",
              "      <td>A103</td>\n",
              "      <td>...</td>\n",
              "      <td>A122</td>\n",
              "      <td>45.0</td>\n",
              "      <td>A143</td>\n",
              "      <td>A153</td>\n",
              "      <td>1</td>\n",
              "      <td>A173</td>\n",
              "      <td>2</td>\n",
              "      <td>A191</td>\n",
              "      <td>A201</td>\n",
              "      <td>1</td>\n",
              "    </tr>\n",
              "    <tr>\n",
              "      <td>4</td>\n",
              "      <td>A11</td>\n",
              "      <td>24</td>\n",
              "      <td>A33</td>\n",
              "      <td>A40</td>\n",
              "      <td>4870.0</td>\n",
              "      <td>A61</td>\n",
              "      <td>A73</td>\n",
              "      <td>3</td>\n",
              "      <td>A93</td>\n",
              "      <td>A101</td>\n",
              "      <td>...</td>\n",
              "      <td>A124</td>\n",
              "      <td>53.0</td>\n",
              "      <td>A143</td>\n",
              "      <td>A153</td>\n",
              "      <td>2</td>\n",
              "      <td>A173</td>\n",
              "      <td>2</td>\n",
              "      <td>A191</td>\n",
              "      <td>A201</td>\n",
              "      <td>2</td>\n",
              "    </tr>\n",
              "  </tbody>\n",
              "</table>\n",
              "<p>5 rows × 21 columns</p>\n",
              "</div>"
            ],
            "text/plain": [
              "  existingchecking  duration credithistory purpose  creditamount savings  \\\n",
              "0              A11         6           A34     A43        1169.0     A65   \n",
              "1              A12        48           A32     A43        5951.0     A61   \n",
              "2              A14        12           A34     A46        2096.0     A61   \n",
              "3              A11        42           A32     A42        7882.0     A61   \n",
              "4              A11        24           A33     A40        4870.0     A61   \n",
              "\n",
              "  employmentsince  installmentrate statussex otherdebtors  ...  property  \\\n",
              "0             A75                4       A93         A101  ...      A121   \n",
              "1             A73                2       A92         A101  ...      A121   \n",
              "2             A74                2       A93         A101  ...      A121   \n",
              "3             A74                2       A93         A103  ...      A122   \n",
              "4             A73                3       A93         A101  ...      A124   \n",
              "\n",
              "    age  otherinstallmentplans housing existingcredits   job peopleliable  \\\n",
              "0  67.0                   A143    A152               2  A173            1   \n",
              "1  22.0                   A143    A152               1  A173            1   \n",
              "2  49.0                   A143    A152               1  A172            2   \n",
              "3  45.0                   A143    A153               1  A173            2   \n",
              "4  53.0                   A143    A153               2  A173            2   \n",
              "\n",
              "   telephone foreignworker Defaulter_NonDefaulter  \n",
              "0       A192          A201                      1  \n",
              "1       A191          A201                      2  \n",
              "2       A191          A201                      1  \n",
              "3       A191          A201                      1  \n",
              "4       A191          A201                      2  \n",
              "\n",
              "[5 rows x 21 columns]"
            ]
          },
          "metadata": {
            "tags": []
          },
          "execution_count": 4
        }
      ]
    },
    {
      "cell_type": "code",
      "metadata": {
        "id": "iT8ithHdH_EC",
        "outputId": "3eca7f5f-b8a7-46a1-b0de-7bf78fadfa0a"
      },
      "source": [
        "credit.info()"
      ],
      "execution_count": null,
      "outputs": [
        {
          "output_type": "stream",
          "text": [
            "<class 'pandas.core.frame.DataFrame'>\n",
            "RangeIndex: 1000 entries, 0 to 999\n",
            "Data columns (total 21 columns):\n",
            "existingchecking          1000 non-null object\n",
            "duration                  1000 non-null int64\n",
            "credithistory             1000 non-null object\n",
            "purpose                   1000 non-null object\n",
            "creditamount              997 non-null float64\n",
            "savings                   1000 non-null object\n",
            "employmentsince           998 non-null object\n",
            "installmentrate           1000 non-null int64\n",
            "statussex                 1000 non-null object\n",
            "otherdebtors              1000 non-null object\n",
            "residencesince            1000 non-null int64\n",
            "property                  1000 non-null object\n",
            "age                       997 non-null float64\n",
            "otherinstallmentplans     1000 non-null object\n",
            "housing                   1000 non-null object\n",
            "existingcredits           1000 non-null int64\n",
            "job                       1000 non-null object\n",
            "peopleliable              1000 non-null int64\n",
            "telephone                 1000 non-null object\n",
            "foreignworker             998 non-null object\n",
            "Defaulter_NonDefaulter    1000 non-null int64\n",
            "dtypes: float64(2), int64(6), object(13)\n",
            "memory usage: 164.2+ KB\n"
          ],
          "name": "stdout"
        }
      ]
    },
    {
      "cell_type": "code",
      "metadata": {
        "id": "Nbw02SwtH_EE",
        "outputId": "34b7fb9e-05ce-49ad-ea5c-d53faef4ceac"
      },
      "source": [
        "credit.isnull().sum()"
      ],
      "execution_count": null,
      "outputs": [
        {
          "output_type": "execute_result",
          "data": {
            "text/plain": [
              "existingchecking          0\n",
              "duration                  0\n",
              "credithistory             0\n",
              "purpose                   0\n",
              "creditamount              3\n",
              "savings                   0\n",
              "employmentsince           2\n",
              "installmentrate           0\n",
              "statussex                 0\n",
              "otherdebtors              0\n",
              "residencesince            0\n",
              "property                  0\n",
              "age                       3\n",
              "otherinstallmentplans     0\n",
              "housing                   0\n",
              "existingcredits           0\n",
              "job                       0\n",
              "peopleliable              0\n",
              "telephone                 0\n",
              "foreignworker             2\n",
              "Defaulter_NonDefaulter    0\n",
              "dtype: int64"
            ]
          },
          "metadata": {
            "tags": []
          },
          "execution_count": 6
        }
      ]
    },
    {
      "cell_type": "code",
      "metadata": {
        "id": "1VQnfl48H_EF"
      },
      "source": [
        "def missing_val_imput(dataset,col):\n",
        "    dataset.loc[dataset[col].isnull(),col]=dataset[col].median()\n",
        "    print(\"missing value for {} done\".format(col))\n",
        "    return"
      ],
      "execution_count": null,
      "outputs": []
    },
    {
      "cell_type": "code",
      "metadata": {
        "scrolled": true,
        "id": "xEX5zWIcH_EG",
        "outputId": "b2d62e97-aa71-4af2-c4b1-3e15e8ca387c"
      },
      "source": [
        "missing_val_imput(credit,\"age\")"
      ],
      "execution_count": null,
      "outputs": [
        {
          "output_type": "stream",
          "text": [
            "missing value for age done\n"
          ],
          "name": "stdout"
        }
      ]
    },
    {
      "cell_type": "code",
      "metadata": {
        "id": "plXcRTXHH_EH",
        "outputId": "1467c933-e8a3-47aa-dcfd-db008e52e740"
      },
      "source": [
        "missing_val_imput(credit,\"creditamount\")"
      ],
      "execution_count": null,
      "outputs": [
        {
          "output_type": "stream",
          "text": [
            "missing value for creditamount done\n"
          ],
          "name": "stdout"
        }
      ]
    },
    {
      "cell_type": "code",
      "metadata": {
        "id": "SL75obXeH_EI"
      },
      "source": [
        "def missing_val_imput_cat(dataset,col):\n",
        "    dataset.loc[dataset[col].isnull(),col]=dataset[col].mode()[0]\n",
        "    print(\"missing value for {} done\".format(col))\n",
        "    return"
      ],
      "execution_count": null,
      "outputs": []
    },
    {
      "cell_type": "code",
      "metadata": {
        "id": "xTFMZZuHH_EJ",
        "outputId": "9d9c47b9-f4b6-4d90-9051-d750ef8a5220"
      },
      "source": [
        "missing_val_imput_cat(credit,\"employmentsince\")"
      ],
      "execution_count": null,
      "outputs": [
        {
          "output_type": "stream",
          "text": [
            "missing value for employmentsince done\n"
          ],
          "name": "stdout"
        }
      ]
    },
    {
      "cell_type": "code",
      "metadata": {
        "id": "AwYZ16ajH_EK",
        "outputId": "cb561b2d-ddb9-423d-b071-ce6776de280d"
      },
      "source": [
        "missing_val_imput_cat(credit,\"foreignworker\")"
      ],
      "execution_count": null,
      "outputs": [
        {
          "output_type": "stream",
          "text": [
            "missing value for foreignworker done\n"
          ],
          "name": "stdout"
        }
      ]
    },
    {
      "cell_type": "code",
      "metadata": {
        "id": "szXjaQ0xH_EL",
        "outputId": "b1c6dc40-a0b9-40cb-ac20-478a550adf4e"
      },
      "source": [
        "credit.info()"
      ],
      "execution_count": null,
      "outputs": [
        {
          "output_type": "stream",
          "text": [
            "<class 'pandas.core.frame.DataFrame'>\n",
            "RangeIndex: 1000 entries, 0 to 999\n",
            "Data columns (total 21 columns):\n",
            "existingchecking          1000 non-null object\n",
            "duration                  1000 non-null int64\n",
            "credithistory             1000 non-null object\n",
            "purpose                   1000 non-null object\n",
            "creditamount              1000 non-null float64\n",
            "savings                   1000 non-null object\n",
            "employmentsince           1000 non-null object\n",
            "installmentrate           1000 non-null int64\n",
            "statussex                 1000 non-null object\n",
            "otherdebtors              1000 non-null object\n",
            "residencesince            1000 non-null int64\n",
            "property                  1000 non-null object\n",
            "age                       1000 non-null float64\n",
            "otherinstallmentplans     1000 non-null object\n",
            "housing                   1000 non-null object\n",
            "existingcredits           1000 non-null int64\n",
            "job                       1000 non-null object\n",
            "peopleliable              1000 non-null int64\n",
            "telephone                 1000 non-null object\n",
            "foreignworker             1000 non-null object\n",
            "Defaulter_NonDefaulter    1000 non-null int64\n",
            "dtypes: float64(2), int64(6), object(13)\n",
            "memory usage: 164.2+ KB\n"
          ],
          "name": "stdout"
        }
      ]
    },
    {
      "cell_type": "code",
      "metadata": {
        "id": "PAYYaTbNH_EM",
        "outputId": "912abfa7-a0a3-4e72-d07e-f2e4fb86e1d4"
      },
      "source": [
        "fig, axes=plt.subplots(nrows=1, ncols=3,figsize=(12,8))\n",
        "axes[0].boxplot(credit['creditamount'])\n",
        "axes[0].set_title('creditamount')\n",
        "axes[1].boxplot(credit['duration'])\n",
        "axes[1].set_title('duration')\n",
        "axes[2].boxplot(credit['age'])\n",
        "axes[2].set_title('age')\n",
        "fig.savefig('boxplots.png')"
      ],
      "execution_count": null,
      "outputs": [
        {
          "output_type": "display_data",
          "data": {
            "image/png": "[encoded data removed]",
            "text/plain": [
              "<Figure size 864x576 with 3 Axes>"
            ]
          },
          "metadata": {
            "tags": [],
            "needs_background": "light"
          }
        }
      ]
    },
    {
      "cell_type": "code",
      "metadata": {
        "id": "pleXYRDuH_EN",
        "outputId": "64c19a0f-73d9-4110-ecc8-4fe1bb4daf33"
      },
      "source": [
        "credit[\"Defaulter_NonDefaulter\"].replace([1,2],[0,1],inplace=True)\n",
        "credit[\"Defaulter_NonDefaulter\"].value_counts()"
      ],
      "execution_count": null,
      "outputs": [
        {
          "output_type": "execute_result",
          "data": {
            "text/plain": [
              "0    700\n",
              "1    300\n",
              "Name: Defaulter_NonDefaulter, dtype: int64"
            ]
          },
          "metadata": {
            "tags": []
          },
          "execution_count": 15
        }
      ]
    },
    {
      "cell_type": "code",
      "metadata": {
        "id": "WTh9U8weH_EO",
        "outputId": "3088332f-55f4-4c2c-b75e-5be03e149822"
      },
      "source": [
        "f, axes=plt.subplots(5,4,figsize=(10.4*3,14*4))\n",
        "x=0\n",
        "y=0\n",
        "for column in credit.drop(['Defaulter_NonDefaulter','creditamount','duration','age'],axis=1):\n",
        "    sns.countplot(y=column,hue='Defaulter_NonDefaulter',data=credit.drop(['creditamount','duration','age'],axis=1),ax=axes[x,y])\n",
        "    y+=1\n",
        "    if y>3:\n",
        "        x+=1\n",
        "        y=0\n",
        "    if x>4:\n",
        "        break\n",
        "f.savefig(\"D:\\DATA\\Imartics\\Python\\credit.png\")"
      ],
      "execution_count": null,
      "outputs": [
        {
          "output_type": "display_data",
          "data": {
            "image/png": "[encoded data removed]",
            "text/plain": [
              "<Figure size 2246.4x4032 with 20 Axes>"
            ]
          },
          "metadata": {
            "tags": [],
            "needs_background": "light"
          }
        }
      ]
    },
    {
      "cell_type": "code",
      "metadata": {
        "id": "5ajk8Qi6H_EP"
      },
      "source": [
        "catvars=['existingchecking','credithistory','purpose','savings','employmentsince','statussex','otherdebtors','property','otherinstallmentplans','housing','job','telephone','foreignworker']\n",
        "numvars=['creditamount','duration','installmentrate','residencesince','age','existingcredits','peopleliable']"
      ],
      "execution_count": null,
      "outputs": []
    },
    {
      "cell_type": "code",
      "metadata": {
        "id": "1RdKGsyqH_EQ"
      },
      "source": [
        "x=credit.drop([\"Defaulter_NonDefaulter\"],axis=1)\n",
        "y=credit[\"Defaulter_NonDefaulter\"]"
      ],
      "execution_count": null,
      "outputs": []
    },
    {
      "cell_type": "code",
      "metadata": {
        "id": "fpSfEZ2cH_EQ",
        "outputId": "0b1a6a81-2a57-4aac-d9cf-51b26b426f68"
      },
      "source": [
        "x_dumm=pd.get_dummies(x,columns=catvars,drop_first=True)\n",
        "x_dumm.columns"
      ],
      "execution_count": null,
      "outputs": [
        {
          "output_type": "execute_result",
          "data": {
            "text/plain": [
              "Index(['duration', 'creditamount', 'installmentrate', 'residencesince', 'age',\n",
              "       'existingcredits', 'peopleliable', 'existingchecking_A12',\n",
              "       'existingchecking_A13', 'existingchecking_A14', 'credithistory_A31',\n",
              "       'credithistory_A32', 'credithistory_A33', 'credithistory_A34',\n",
              "       'purpose_A41', 'purpose_A410', 'purpose_A42', 'purpose_A43',\n",
              "       'purpose_A44', 'purpose_A45', 'purpose_A46', 'purpose_A48',\n",
              "       'purpose_A49', 'savings_A62', 'savings_A63', 'savings_A64',\n",
              "       'savings_A65', 'employmentsince_A72', 'employmentsince_A73',\n",
              "       'employmentsince_A74', 'employmentsince_A75', 'statussex_A92',\n",
              "       'statussex_A93', 'statussex_A94', 'otherdebtors_A102',\n",
              "       'otherdebtors_A103', 'property_A122', 'property_A123', 'property_A124',\n",
              "       'otherinstallmentplans_A142', 'otherinstallmentplans_A143',\n",
              "       'housing_A152', 'housing_A153', 'job_A172', 'job_A173', 'job_A174',\n",
              "       'telephone_A192', 'foreignworker_A202'],\n",
              "      dtype='object')"
            ]
          },
          "metadata": {
            "tags": []
          },
          "execution_count": 19
        }
      ]
    },
    {
      "cell_type": "code",
      "metadata": {
        "id": "VIolMetLH_ER",
        "outputId": "5860436f-6028-45f4-8a7e-e975ce151b83"
      },
      "source": [
        "len(x_dumm.columns)"
      ],
      "execution_count": null,
      "outputs": [
        {
          "output_type": "execute_result",
          "data": {
            "text/plain": [
              "48"
            ]
          },
          "metadata": {
            "tags": []
          },
          "execution_count": 20
        }
      ]
    },
    {
      "cell_type": "code",
      "metadata": {
        "id": "tEuikE6PH_ES"
      },
      "source": [
        "x_train,x_test,y_train,y_test=train_test_split(x_dumm,y,test_size=0.20)"
      ],
      "execution_count": null,
      "outputs": []
    },
    {
      "cell_type": "code",
      "metadata": {
        "id": "b_DxZ_I6H_ET",
        "outputId": "dc1a022d-7d30-411f-c55b-e326bc7d019f"
      },
      "source": [
        "scaler = StandardScaler()\n",
        "x_train_standradized=scaler.fit_transform(x_train[numvars])\n",
        "x_test_standradized=scaler.transform(x_test[numvars])\n",
        "x_train_standradized=pd.DataFrame(x_train_standradized)\n",
        "x_test_standradized=pd.DataFrame(x_test_standradized)\n",
        "\n",
        "print(\"standradization done\")"
      ],
      "execution_count": null,
      "outputs": [
        {
          "output_type": "stream",
          "text": [
            "standradization done\n"
          ],
          "name": "stdout"
        }
      ]
    },
    {
      "cell_type": "code",
      "metadata": {
        "id": "mdYfTvh7H_EU",
        "outputId": "4d315660-d778-4d71-af0d-ed639ef1d4b1"
      },
      "source": [
        "x_train_standradized.head()"
      ],
      "execution_count": null,
      "outputs": [
        {
          "output_type": "execute_result",
          "data": {
            "text/html": [
              "<div>\n",
              "<style scoped>\n",
              "    .dataframe tbody tr th:only-of-type {\n",
              "        vertical-align: middle;\n",
              "    }\n",
              "\n",
              "    .dataframe tbody tr th {\n",
              "        vertical-align: top;\n",
              "    }\n",
              "\n",
              "    .dataframe thead th {\n",
              "        text-align: right;\n",
              "    }\n",
              "</style>\n",
              "<table border=\"1\" class=\"dataframe\">\n",
              "  <thead>\n",
              "    <tr style=\"text-align: right;\">\n",
              "      <th></th>\n",
              "      <th>creditamount</th>\n",
              "      <th>duration</th>\n",
              "      <th>installmentrate</th>\n",
              "      <th>residencesince</th>\n",
              "      <th>age</th>\n",
              "      <th>existingcredits</th>\n",
              "      <th>peopleliable</th>\n",
              "    </tr>\n",
              "  </thead>\n",
              "  <tbody>\n",
              "    <tr>\n",
              "      <td>0</td>\n",
              "      <td>-0.333496</td>\n",
              "      <td>0.253496</td>\n",
              "      <td>0.008945</td>\n",
              "      <td>-0.753007</td>\n",
              "      <td>-0.413469</td>\n",
              "      <td>-0.706372</td>\n",
              "      <td>2.323790</td>\n",
              "    </tr>\n",
              "    <tr>\n",
              "      <td>1</td>\n",
              "      <td>-0.513312</td>\n",
              "      <td>-0.243758</td>\n",
              "      <td>0.903408</td>\n",
              "      <td>-0.753007</td>\n",
              "      <td>-1.033728</td>\n",
              "      <td>1.016486</td>\n",
              "      <td>-0.430331</td>\n",
              "    </tr>\n",
              "    <tr>\n",
              "      <td>2</td>\n",
              "      <td>1.240581</td>\n",
              "      <td>0.253496</td>\n",
              "      <td>-0.885518</td>\n",
              "      <td>-1.649445</td>\n",
              "      <td>1.713134</td>\n",
              "      <td>-0.706372</td>\n",
              "      <td>-0.430331</td>\n",
              "    </tr>\n",
              "    <tr>\n",
              "      <td>3</td>\n",
              "      <td>-0.659585</td>\n",
              "      <td>0.253496</td>\n",
              "      <td>0.903408</td>\n",
              "      <td>-0.753007</td>\n",
              "      <td>1.004266</td>\n",
              "      <td>-0.706372</td>\n",
              "      <td>-0.430331</td>\n",
              "    </tr>\n",
              "    <tr>\n",
              "      <td>4</td>\n",
              "      <td>-0.456947</td>\n",
              "      <td>-0.741011</td>\n",
              "      <td>0.903408</td>\n",
              "      <td>-0.753007</td>\n",
              "      <td>-0.413469</td>\n",
              "      <td>1.016486</td>\n",
              "      <td>2.323790</td>\n",
              "    </tr>\n",
              "  </tbody>\n",
              "</table>\n",
              "</div>"
            ],
            "text/plain": [
              "   creditamount  duration  installmentrate  residencesince       age  \\\n",
              "0     -0.333496  0.253496         0.008945       -0.753007 -0.413469   \n",
              "1     -0.513312 -0.243758         0.903408       -0.753007 -1.033728   \n",
              "2      1.240581  0.253496        -0.885518       -1.649445  1.713134   \n",
              "3     -0.659585  0.253496         0.903408       -0.753007  1.004266   \n",
              "4     -0.456947 -0.741011         0.903408       -0.753007 -0.413469   \n",
              "\n",
              "   existingcredits  peopleliable  \n",
              "0        -0.706372      2.323790  \n",
              "1         1.016486     -0.430331  \n",
              "2        -0.706372     -0.430331  \n",
              "3        -0.706372     -0.430331  \n",
              "4         1.016486      2.323790  "
            ]
          },
          "metadata": {
            "tags": []
          },
          "execution_count": 52
        }
      ]
    },
    {
      "cell_type": "code",
      "metadata": {
        "id": "7kpT7h0wH_EV"
      },
      "source": [
        "x_train_standradized.columns=numvars\n",
        "x_test_standradized.columns=numvars"
      ],
      "execution_count": null,
      "outputs": []
    },
    {
      "cell_type": "code",
      "metadata": {
        "id": "QoHQVg9kH_EW"
      },
      "source": [
        "x_train_cat=x_train.drop(numvars,axis=1)\n",
        "x_test_cat=x_test.drop(numvars,axis=1)\n",
        "\n",
        "x_train_cat.reset_index(inplace=True,drop=True)\n",
        "x_test_cat.reset_index(inplace=True,drop=True)"
      ],
      "execution_count": null,
      "outputs": []
    },
    {
      "cell_type": "code",
      "metadata": {
        "id": "ZB0BELfIH_EW"
      },
      "source": [
        "y_train.reset_index(inplace=True,drop=True)\n",
        "y_test.reset_index(inplace=True,drop=True)"
      ],
      "execution_count": null,
      "outputs": []
    },
    {
      "cell_type": "code",
      "metadata": {
        "id": "8u3EejouH_EX",
        "outputId": "a48cfb17-400f-419c-a264-f90c202e475b"
      },
      "source": [
        "x_train_transform=pd.concat([x_train_standradized,x_train_cat],axis=1)\n",
        "x_test_transform=pd.concat([x_test_standradized,x_test_cat],axis=1)\n",
        "\n",
        "print(x_train_transform.shape)\n",
        "print(x_test_transform.shape)"
      ],
      "execution_count": null,
      "outputs": [
        {
          "output_type": "stream",
          "text": [
            "(800, 48)\n",
            "(200, 48)\n"
          ],
          "name": "stdout"
        }
      ]
    },
    {
      "cell_type": "code",
      "metadata": {
        "id": "c4LZWcrjH_EY",
        "outputId": "ee1329e5-3e68-49e0-f181-8b39b42e1c9c"
      },
      "source": [
        "type(y_train)"
      ],
      "execution_count": null,
      "outputs": [
        {
          "output_type": "execute_result",
          "data": {
            "text/plain": [
              "pandas.core.series.Series"
            ]
          },
          "metadata": {
            "tags": []
          },
          "execution_count": 27
        }
      ]
    },
    {
      "cell_type": "code",
      "metadata": {
        "id": "TEe3DiHsH_EZ",
        "outputId": "dbb1787a-1fab-4115-fafd-a0db618149b8"
      },
      "source": [
        "y_train.value_counts()"
      ],
      "execution_count": null,
      "outputs": [
        {
          "output_type": "execute_result",
          "data": {
            "text/plain": [
              "0    561\n",
              "1    239\n",
              "Name: Defaulter_NonDefaulter, dtype: int64"
            ]
          },
          "metadata": {
            "tags": []
          },
          "execution_count": 28
        }
      ]
    },
    {
      "cell_type": "code",
      "metadata": {
        "id": "esMhaZO4H_Ea"
      },
      "source": [
        "sm = SMOTE(sampling_strategy=0.7)\n",
        "x_train_transform_smot, y_train_smot=sm.fit_sample(x_train_transform,y_train)"
      ],
      "execution_count": null,
      "outputs": []
    },
    {
      "cell_type": "code",
      "metadata": {
        "id": "E3d8BfLTH_Ea",
        "outputId": "71c23bcf-967c-4f02-bb7a-51e24a06d92b"
      },
      "source": [
        "type(x_train_transform_smot)"
      ],
      "execution_count": null,
      "outputs": [
        {
          "output_type": "execute_result",
          "data": {
            "text/plain": [
              "numpy.ndarray"
            ]
          },
          "metadata": {
            "tags": []
          },
          "execution_count": 30
        }
      ]
    },
    {
      "cell_type": "code",
      "metadata": {
        "id": "Gpr17RX2H_Eb"
      },
      "source": [
        "x_train_transform_smot= pd.DataFrame(x_train_transform_smot)"
      ],
      "execution_count": null,
      "outputs": []
    },
    {
      "cell_type": "code",
      "metadata": {
        "id": "khFssRiOH_Ec"
      },
      "source": [
        "x_train_transform_smot.columns=x_train_transform_smot.columns"
      ],
      "execution_count": null,
      "outputs": []
    },
    {
      "cell_type": "code",
      "metadata": {
        "id": "esNIof04H_Ec"
      },
      "source": [
        "y_train_smot=pd.Series(y_train_smot)"
      ],
      "execution_count": null,
      "outputs": []
    },
    {
      "cell_type": "code",
      "metadata": {
        "id": "Gll2dxmgH_Ed",
        "outputId": "e7491f58-10c7-444b-9dcd-cde44103d3af"
      },
      "source": [
        "y_train_smot.value_counts()"
      ],
      "execution_count": null,
      "outputs": [
        {
          "output_type": "execute_result",
          "data": {
            "text/plain": [
              "0    561\n",
              "1    392\n",
              "dtype: int64"
            ]
          },
          "metadata": {
            "tags": []
          },
          "execution_count": 34
        }
      ]
    },
    {
      "cell_type": "code",
      "metadata": {
        "id": "I2utrju9H_Ed"
      },
      "source": [
        "def get_eval(clf, X_train, y_train,y_test,y_pred):\n",
        "    # Cross Validation to test and anticipate overfitting problem\n",
        "    scores1 = cross_val_score(clf, X_train, y_train, cv=10, scoring='accuracy')\n",
        "    scores2 = cross_val_score(clf, X_train, y_train, cv=10, scoring='precision')\n",
        "    scores3 = cross_val_score(clf, X_train, y_train, cv=10, scoring='roc_auc')\n",
        "    # The mean score and standard deviation of the score estimate\n",
        "    print(\"Cross Validation Accuracy: %0.2f (+/- %0.2f)\" % (scores1.mean(), scores1.std()))\n",
        "    print(\"Cross Validation Precision: %0.2f (+/- %0.2f)\" % (scores2.mean(), scores2.std()))\n",
        "    print(\"Cross Validation roc_auc: %0.2f (+/- %0.2f)\" % (scores3.mean(), scores3.std()))\n",
        "    # Create and print confusion matrix\n",
        "    abclf_cm = confusion_matrix(y_test,y_pred)\n",
        "    print(abclf_cm)\n",
        "    return"
      ],
      "execution_count": null,
      "outputs": []
    },
    {
      "cell_type": "code",
      "metadata": {
        "id": "sDrmynI_H_Ef"
      },
      "source": [
        "# Function to get roc curve\n",
        "def get_roc (y_test,y_pred):\n",
        "    # Compute ROC curve and ROC area for each class\n",
        "    fpr = dict()\n",
        "    tpr = dict()\n",
        "    roc_auc = dict()\n",
        "    fpr, tpr, _ = roc_curve(y_test, y_pred)\n",
        "    roc_auc = auc(fpr, tpr)\n",
        "    #Plot of a ROC curve\n",
        "    plt.figure()\n",
        "    lw = 2\n",
        "    plt.plot(fpr, tpr, color='darkorange',\n",
        "             label='ROC curve (area = %0.2f)' % roc_auc)\n",
        "    plt.plot([0, 1], [0, 1], color='navy', lw=lw, linestyle='--')\n",
        "    plt.xlim([0.0, 1.0])\n",
        "    plt.ylim([0.0, 1.0])\n",
        "    plt.xlabel('False Positive Rate')\n",
        "    plt.ylabel('True Positive Rate')\n",
        "    plt.title('Receiver operating characteristic')\n",
        "    plt.legend(loc=\"lower right\")\n",
        "    plt.show()\n",
        "    return"
      ],
      "execution_count": null,
      "outputs": []
    },
    {
      "cell_type": "code",
      "metadata": {
        "id": "tYSNNZ1lH_Eg"
      },
      "source": [
        "# fit, train and cross validate Decision Tree with training and test data \n",
        "def dectreeclf(X_train, y_train,X_test, y_test):\n",
        "    start = time.time()\n",
        "\n",
        "    print(\"DecisionTreeClassifier\")\n",
        "    dec_tree = tree.DecisionTreeClassifier(min_samples_split=10,min_samples_leaf=5).fit(X_train, y_train)\n",
        "\n",
        "    # Predict target variables y for test data\n",
        "    y_pred = dec_tree.predict(X_test)\n",
        "\n",
        "    # Export visualization as file\n",
        "    #visualize_tree(dec_tree,X_train,y_train)\n",
        "    \n",
        "    # Get Cross Validation and Confusion matrix\n",
        "    get_eval(dec_tree, X_train, y_train,y_test,y_pred)\n",
        "        \n",
        "    end = time.time()\n",
        "    training_time = end-start\n",
        "    print(\"Time taken: \", training_time)\n",
        "    return\n",
        "\n",
        "# Visualize tree and save as .pdf\n",
        "# Only works for dataframes, not for numpy arrays"
      ],
      "execution_count": null,
      "outputs": []
    },
    {
      "cell_type": "code",
      "metadata": {
        "id": "TQoi_pbcH_Ei"
      },
      "source": [
        "# fit, train and cross validate Decision Tree with training and test data \n",
        "def randomforestclf(X_train, y_train,X_test, y_test):\n",
        "    print(\"RandomForestClassifier\")\n",
        "    randomforest = RandomForestClassifier().fit(X_train, y_train)\n",
        "\n",
        "    # Predict target variables y for test data\n",
        "    y_pred = randomforest.predict(X_test)\n",
        "\n",
        "    # Get Cross Validation and Confusion matrix\n",
        "    get_eval(randomforest, X_train, y_train,y_test,y_pred)\n",
        "    return"
      ],
      "execution_count": null,
      "outputs": []
    },
    {
      "cell_type": "code",
      "metadata": {
        "id": "ljAas_XlH_Ej"
      },
      "source": [
        "# fit, train and cross validate Decision Tree with training and test data \n",
        "def logregclf(X_train, y_train,X_test, y_test):\n",
        "    print(\"LogisticRegression\")\n",
        "    logreg = LogisticRegression().fit(X_train, y_train)\n",
        "\n",
        "    # Predict target variables y for test data\n",
        "    y_pred = logreg.predict(X_test)\n",
        "\n",
        "    # Get Cross Validation and Confusion matrix\n",
        "    get_eval(logreg, X_train, y_train,y_test,y_pred)\n",
        "    return"
      ],
      "execution_count": null,
      "outputs": []
    },
    {
      "cell_type": "code",
      "metadata": {
        "id": "03XKHqxVH_Ej"
      },
      "source": [
        "def knnclf(X_train, y_train, X_test, y_test):  \n",
        "    print(\"KNeighborsClassifier\")\n",
        "    knn = KNeighborsClassifier(n_neighbors=3).fit(X_train, y_train)\n",
        "\n",
        "    # Predict target variables y for test data\n",
        "    y_pred = knn.predict(X_test)\n",
        "\n",
        "    # Get Cross Validation and Confusion matrix\n",
        "    get_eval(knn, X_train, y_train,y_test,y_pred)\n",
        "    return"
      ],
      "execution_count": null,
      "outputs": []
    },
    {
      "cell_type": "code",
      "metadata": {
        "id": "HC0wLYgNH_Ek",
        "outputId": "cd20878f-c66b-4958-96b3-e4d1d0c99025"
      },
      "source": [
        "print(\"clean resample\")\n",
        "dectreeclf(x_train_transform_smot,y_train_smot,x_test_transform,y_test)"
      ],
      "execution_count": null,
      "outputs": [
        {
          "output_type": "stream",
          "text": [
            "clean resample\n",
            "DecisionTreeClassifier\n",
            "Cross Validation Accuracy: 0.72 (+/- 0.07)\n",
            "Cross Validation Precision: 0.65 (+/- 0.06)\n",
            "Cross Validation roc_auc: 0.75 (+/- 0.10)\n",
            "[[118  21]\n",
            " [ 41  20]]\n",
            "Time taken:  0.37769055366516113\n"
          ],
          "name": "stdout"
        }
      ]
    },
    {
      "cell_type": "code",
      "metadata": {
        "id": "J_vVMKwxH_Ek",
        "outputId": "dbbb16fb-fe5f-44e2-cee6-421fd60e54e2"
      },
      "source": [
        "print(\"clean resample\")\n",
        "randomforestclf(x_train_transform,y_train,x_test_transform,y_test)"
      ],
      "execution_count": null,
      "outputs": [
        {
          "output_type": "stream",
          "text": [
            "clean resample\n",
            "RandomForestClassifier\n"
          ],
          "name": "stdout"
        },
        {
          "output_type": "stream",
          "text": [
            "C:\\ProgramData\\Anaconda3\\lib\\site-packages\\sklearn\\ensemble\\forest.py:245: FutureWarning: The default value of n_estimators will change from 10 in version 0.20 to 100 in 0.22.\n",
            "  \"10 in version 0.20 to 100 in 0.22.\", FutureWarning)\n"
          ],
          "name": "stderr"
        },
        {
          "output_type": "stream",
          "text": [
            "Cross Validation Accuracy: 0.71 (+/- 0.02)\n",
            "Cross Validation Precision: 0.60 (+/- 0.10)\n",
            "Cross Validation roc_auc: 0.76 (+/- 0.02)\n",
            "[[129  10]\n",
            " [ 41  20]]\n"
          ],
          "name": "stdout"
        }
      ]
    },
    {
      "cell_type": "code",
      "metadata": {
        "id": "dPt-39JxH_El",
        "outputId": "752ce1e0-5470-4666-bafa-685bebbf61a6"
      },
      "source": [
        "print(\"clean resample\")\n",
        "logregclf(x_train_transform_smot,y_train_smot,x_test_transform,y_test)"
      ],
      "execution_count": null,
      "outputs": [
        {
          "output_type": "stream",
          "text": [
            "clean resample\n",
            "LogisticRegression\n"
          ],
          "name": "stdout"
        },
        {
          "output_type": "stream",
          "text": [
            "C:\\ProgramData\\Anaconda3\\lib\\site-packages\\sklearn\\linear_model\\logistic.py:432: FutureWarning: Default solver will be changed to 'lbfgs' in 0.22. Specify a solver to silence this warning.\n",
            "  FutureWarning)\n",
            "C:\\ProgramData\\Anaconda3\\lib\\site-packages\\sklearn\\linear_model\\logistic.py:432: FutureWarning: Default solver will be changed to 'lbfgs' in 0.22. Specify a solver to silence this warning.\n",
            "  FutureWarning)\n",
            "C:\\ProgramData\\Anaconda3\\lib\\site-packages\\sklearn\\linear_model\\logistic.py:432: FutureWarning: Default solver will be changed to 'lbfgs' in 0.22. Specify a solver to silence this warning.\n",
            "  FutureWarning)\n",
            "C:\\ProgramData\\Anaconda3\\lib\\site-packages\\sklearn\\linear_model\\logistic.py:432: FutureWarning: Default solver will be changed to 'lbfgs' in 0.22. Specify a solver to silence this warning.\n",
            "  FutureWarning)\n",
            "C:\\ProgramData\\Anaconda3\\lib\\site-packages\\sklearn\\linear_model\\logistic.py:432: FutureWarning: Default solver will be changed to 'lbfgs' in 0.22. Specify a solver to silence this warning.\n",
            "  FutureWarning)\n",
            "C:\\ProgramData\\Anaconda3\\lib\\site-packages\\sklearn\\linear_model\\logistic.py:432: FutureWarning: Default solver will be changed to 'lbfgs' in 0.22. Specify a solver to silence this warning.\n",
            "  FutureWarning)\n",
            "C:\\ProgramData\\Anaconda3\\lib\\site-packages\\sklearn\\linear_model\\logistic.py:432: FutureWarning: Default solver will be changed to 'lbfgs' in 0.22. Specify a solver to silence this warning.\n",
            "  FutureWarning)\n",
            "C:\\ProgramData\\Anaconda3\\lib\\site-packages\\sklearn\\linear_model\\logistic.py:432: FutureWarning: Default solver will be changed to 'lbfgs' in 0.22. Specify a solver to silence this warning.\n",
            "  FutureWarning)\n",
            "C:\\ProgramData\\Anaconda3\\lib\\site-packages\\sklearn\\linear_model\\logistic.py:432: FutureWarning: Default solver will be changed to 'lbfgs' in 0.22. Specify a solver to silence this warning.\n",
            "  FutureWarning)\n",
            "C:\\ProgramData\\Anaconda3\\lib\\site-packages\\sklearn\\linear_model\\logistic.py:432: FutureWarning: Default solver will be changed to 'lbfgs' in 0.22. Specify a solver to silence this warning.\n",
            "  FutureWarning)\n",
            "C:\\ProgramData\\Anaconda3\\lib\\site-packages\\sklearn\\linear_model\\logistic.py:432: FutureWarning: Default solver will be changed to 'lbfgs' in 0.22. Specify a solver to silence this warning.\n",
            "  FutureWarning)\n",
            "C:\\ProgramData\\Anaconda3\\lib\\site-packages\\sklearn\\linear_model\\logistic.py:432: FutureWarning: Default solver will be changed to 'lbfgs' in 0.22. Specify a solver to silence this warning.\n",
            "  FutureWarning)\n",
            "C:\\ProgramData\\Anaconda3\\lib\\site-packages\\sklearn\\linear_model\\logistic.py:432: FutureWarning: Default solver will be changed to 'lbfgs' in 0.22. Specify a solver to silence this warning.\n",
            "  FutureWarning)\n",
            "C:\\ProgramData\\Anaconda3\\lib\\site-packages\\sklearn\\linear_model\\logistic.py:432: FutureWarning: Default solver will be changed to 'lbfgs' in 0.22. Specify a solver to silence this warning.\n",
            "  FutureWarning)\n",
            "C:\\ProgramData\\Anaconda3\\lib\\site-packages\\sklearn\\linear_model\\logistic.py:432: FutureWarning: Default solver will be changed to 'lbfgs' in 0.22. Specify a solver to silence this warning.\n",
            "  FutureWarning)\n",
            "C:\\ProgramData\\Anaconda3\\lib\\site-packages\\sklearn\\linear_model\\logistic.py:432: FutureWarning: Default solver will be changed to 'lbfgs' in 0.22. Specify a solver to silence this warning.\n",
            "  FutureWarning)\n",
            "C:\\ProgramData\\Anaconda3\\lib\\site-packages\\sklearn\\linear_model\\logistic.py:432: FutureWarning: Default solver will be changed to 'lbfgs' in 0.22. Specify a solver to silence this warning.\n",
            "  FutureWarning)\n"
          ],
          "name": "stderr"
        },
        {
          "output_type": "stream",
          "text": [
            "Cross Validation Accuracy: 0.74 (+/- 0.04)\n",
            "Cross Validation Precision: 0.70 (+/- 0.05)\n",
            "Cross Validation roc_auc: 0.81 (+/- 0.05)\n",
            "[[119  20]\n",
            " [ 30  31]]\n"
          ],
          "name": "stdout"
        },
        {
          "output_type": "stream",
          "text": [
            "C:\\ProgramData\\Anaconda3\\lib\\site-packages\\sklearn\\linear_model\\logistic.py:432: FutureWarning: Default solver will be changed to 'lbfgs' in 0.22. Specify a solver to silence this warning.\n",
            "  FutureWarning)\n",
            "C:\\ProgramData\\Anaconda3\\lib\\site-packages\\sklearn\\linear_model\\logistic.py:432: FutureWarning: Default solver will be changed to 'lbfgs' in 0.22. Specify a solver to silence this warning.\n",
            "  FutureWarning)\n",
            "C:\\ProgramData\\Anaconda3\\lib\\site-packages\\sklearn\\linear_model\\logistic.py:432: FutureWarning: Default solver will be changed to 'lbfgs' in 0.22. Specify a solver to silence this warning.\n",
            "  FutureWarning)\n",
            "C:\\ProgramData\\Anaconda3\\lib\\site-packages\\sklearn\\linear_model\\logistic.py:432: FutureWarning: Default solver will be changed to 'lbfgs' in 0.22. Specify a solver to silence this warning.\n",
            "  FutureWarning)\n",
            "C:\\ProgramData\\Anaconda3\\lib\\site-packages\\sklearn\\linear_model\\logistic.py:432: FutureWarning: Default solver will be changed to 'lbfgs' in 0.22. Specify a solver to silence this warning.\n",
            "  FutureWarning)\n",
            "C:\\ProgramData\\Anaconda3\\lib\\site-packages\\sklearn\\linear_model\\logistic.py:432: FutureWarning: Default solver will be changed to 'lbfgs' in 0.22. Specify a solver to silence this warning.\n",
            "  FutureWarning)\n",
            "C:\\ProgramData\\Anaconda3\\lib\\site-packages\\sklearn\\linear_model\\logistic.py:432: FutureWarning: Default solver will be changed to 'lbfgs' in 0.22. Specify a solver to silence this warning.\n",
            "  FutureWarning)\n",
            "C:\\ProgramData\\Anaconda3\\lib\\site-packages\\sklearn\\linear_model\\logistic.py:432: FutureWarning: Default solver will be changed to 'lbfgs' in 0.22. Specify a solver to silence this warning.\n",
            "  FutureWarning)\n",
            "C:\\ProgramData\\Anaconda3\\lib\\site-packages\\sklearn\\linear_model\\logistic.py:432: FutureWarning: Default solver will be changed to 'lbfgs' in 0.22. Specify a solver to silence this warning.\n",
            "  FutureWarning)\n",
            "C:\\ProgramData\\Anaconda3\\lib\\site-packages\\sklearn\\linear_model\\logistic.py:432: FutureWarning: Default solver will be changed to 'lbfgs' in 0.22. Specify a solver to silence this warning.\n",
            "  FutureWarning)\n",
            "C:\\ProgramData\\Anaconda3\\lib\\site-packages\\sklearn\\linear_model\\logistic.py:432: FutureWarning: Default solver will be changed to 'lbfgs' in 0.22. Specify a solver to silence this warning.\n",
            "  FutureWarning)\n",
            "C:\\ProgramData\\Anaconda3\\lib\\site-packages\\sklearn\\linear_model\\logistic.py:432: FutureWarning: Default solver will be changed to 'lbfgs' in 0.22. Specify a solver to silence this warning.\n",
            "  FutureWarning)\n",
            "C:\\ProgramData\\Anaconda3\\lib\\site-packages\\sklearn\\linear_model\\logistic.py:432: FutureWarning: Default solver will be changed to 'lbfgs' in 0.22. Specify a solver to silence this warning.\n",
            "  FutureWarning)\n",
            "C:\\ProgramData\\Anaconda3\\lib\\site-packages\\sklearn\\linear_model\\logistic.py:432: FutureWarning: Default solver will be changed to 'lbfgs' in 0.22. Specify a solver to silence this warning.\n",
            "  FutureWarning)\n"
          ],
          "name": "stderr"
        }
      ]
    },
    {
      "cell_type": "code",
      "metadata": {
        "id": "zmIX17R4H_El",
        "outputId": "870844ec-5704-4fc0-ae8a-01c9d2bb8334"
      },
      "source": [
        "print(\"clean resample\")\n",
        "knnclf(x_train_transform_smot,y_train_smot,x_test_transform,y_test)"
      ],
      "execution_count": null,
      "outputs": [
        {
          "output_type": "stream",
          "text": [
            "clean resample\n",
            "KNeighborsClassifier\n",
            "Cross Validation Accuracy: 0.75 (+/- 0.07)\n",
            "Cross Validation Precision: 0.65 (+/- 0.07)\n",
            "Cross Validation roc_auc: 0.82 (+/- 0.08)\n",
            "[[105  34]\n",
            " [ 31  30]]\n"
          ],
          "name": "stdout"
        }
      ]
    },
    {
      "cell_type": "code",
      "metadata": {
        "id": "mG3Z7szUH_El",
        "outputId": "06e27016-cb3f-41df-9ec7-b59e1fe6a7d9"
      },
      "source": [
        "rfe=RFE(LogisticRegression(),10)\n",
        "fit=rfe.fit(x_train_transform_smot,y_train_smot)\n",
        "print(\"Num Feature:%d\"%fit.n_features_)\n",
        "print(\"selected Features:%s\"%fit.support_)\n",
        "print(\"Feature Ranking:%s\"%fit.ranking_)\n",
        "\n",
        "RFEX_train=rfe.transform(x_train_transform_smot)\n",
        "RFEX_test=rfe.transform(x_test_transform)\n",
        "RFEy_train=y_train_smot\n",
        "RFEy_test=y_test"
      ],
      "execution_count": null,
      "outputs": [
        {
          "output_type": "stream",
          "text": [
            "C:\\ProgramData\\Anaconda3\\lib\\site-packages\\sklearn\\linear_model\\logistic.py:432: FutureWarning: Default solver will be changed to 'lbfgs' in 0.22. Specify a solver to silence this warning.\n",
            "  FutureWarning)\n",
            "C:\\ProgramData\\Anaconda3\\lib\\site-packages\\sklearn\\linear_model\\logistic.py:432: FutureWarning: Default solver will be changed to 'lbfgs' in 0.22. Specify a solver to silence this warning.\n",
            "  FutureWarning)\n",
            "C:\\ProgramData\\Anaconda3\\lib\\site-packages\\sklearn\\linear_model\\logistic.py:432: FutureWarning: Default solver will be changed to 'lbfgs' in 0.22. Specify a solver to silence this warning.\n",
            "  FutureWarning)\n",
            "C:\\ProgramData\\Anaconda3\\lib\\site-packages\\sklearn\\linear_model\\logistic.py:432: FutureWarning: Default solver will be changed to 'lbfgs' in 0.22. Specify a solver to silence this warning.\n",
            "  FutureWarning)\n",
            "C:\\ProgramData\\Anaconda3\\lib\\site-packages\\sklearn\\linear_model\\logistic.py:432: FutureWarning: Default solver will be changed to 'lbfgs' in 0.22. Specify a solver to silence this warning.\n",
            "  FutureWarning)\n",
            "C:\\ProgramData\\Anaconda3\\lib\\site-packages\\sklearn\\linear_model\\logistic.py:432: FutureWarning: Default solver will be changed to 'lbfgs' in 0.22. Specify a solver to silence this warning.\n",
            "  FutureWarning)\n",
            "C:\\ProgramData\\Anaconda3\\lib\\site-packages\\sklearn\\linear_model\\logistic.py:432: FutureWarning: Default solver will be changed to 'lbfgs' in 0.22. Specify a solver to silence this warning.\n",
            "  FutureWarning)\n",
            "C:\\ProgramData\\Anaconda3\\lib\\site-packages\\sklearn\\linear_model\\logistic.py:432: FutureWarning: Default solver will be changed to 'lbfgs' in 0.22. Specify a solver to silence this warning.\n",
            "  FutureWarning)\n",
            "C:\\ProgramData\\Anaconda3\\lib\\site-packages\\sklearn\\linear_model\\logistic.py:432: FutureWarning: Default solver will be changed to 'lbfgs' in 0.22. Specify a solver to silence this warning.\n",
            "  FutureWarning)\n",
            "C:\\ProgramData\\Anaconda3\\lib\\site-packages\\sklearn\\linear_model\\logistic.py:432: FutureWarning: Default solver will be changed to 'lbfgs' in 0.22. Specify a solver to silence this warning.\n",
            "  FutureWarning)\n",
            "C:\\ProgramData\\Anaconda3\\lib\\site-packages\\sklearn\\linear_model\\logistic.py:432: FutureWarning: Default solver will be changed to 'lbfgs' in 0.22. Specify a solver to silence this warning.\n",
            "  FutureWarning)\n",
            "C:\\ProgramData\\Anaconda3\\lib\\site-packages\\sklearn\\linear_model\\logistic.py:432: FutureWarning: Default solver will be changed to 'lbfgs' in 0.22. Specify a solver to silence this warning.\n",
            "  FutureWarning)\n",
            "C:\\ProgramData\\Anaconda3\\lib\\site-packages\\sklearn\\linear_model\\logistic.py:432: FutureWarning: Default solver will be changed to 'lbfgs' in 0.22. Specify a solver to silence this warning.\n",
            "  FutureWarning)\n",
            "C:\\ProgramData\\Anaconda3\\lib\\site-packages\\sklearn\\linear_model\\logistic.py:432: FutureWarning: Default solver will be changed to 'lbfgs' in 0.22. Specify a solver to silence this warning.\n",
            "  FutureWarning)\n",
            "C:\\ProgramData\\Anaconda3\\lib\\site-packages\\sklearn\\linear_model\\logistic.py:432: FutureWarning: Default solver will be changed to 'lbfgs' in 0.22. Specify a solver to silence this warning.\n",
            "  FutureWarning)\n",
            "C:\\ProgramData\\Anaconda3\\lib\\site-packages\\sklearn\\linear_model\\logistic.py:432: FutureWarning: Default solver will be changed to 'lbfgs' in 0.22. Specify a solver to silence this warning.\n",
            "  FutureWarning)\n",
            "C:\\ProgramData\\Anaconda3\\lib\\site-packages\\sklearn\\linear_model\\logistic.py:432: FutureWarning: Default solver will be changed to 'lbfgs' in 0.22. Specify a solver to silence this warning.\n",
            "  FutureWarning)\n",
            "C:\\ProgramData\\Anaconda3\\lib\\site-packages\\sklearn\\linear_model\\logistic.py:432: FutureWarning: Default solver will be changed to 'lbfgs' in 0.22. Specify a solver to silence this warning.\n",
            "  FutureWarning)\n",
            "C:\\ProgramData\\Anaconda3\\lib\\site-packages\\sklearn\\linear_model\\logistic.py:432: FutureWarning: Default solver will be changed to 'lbfgs' in 0.22. Specify a solver to silence this warning.\n",
            "  FutureWarning)\n",
            "C:\\ProgramData\\Anaconda3\\lib\\site-packages\\sklearn\\linear_model\\logistic.py:432: FutureWarning: Default solver will be changed to 'lbfgs' in 0.22. Specify a solver to silence this warning.\n",
            "  FutureWarning)\n",
            "C:\\ProgramData\\Anaconda3\\lib\\site-packages\\sklearn\\linear_model\\logistic.py:432: FutureWarning: Default solver will be changed to 'lbfgs' in 0.22. Specify a solver to silence this warning.\n",
            "  FutureWarning)\n",
            "C:\\ProgramData\\Anaconda3\\lib\\site-packages\\sklearn\\linear_model\\logistic.py:432: FutureWarning: Default solver will be changed to 'lbfgs' in 0.22. Specify a solver to silence this warning.\n",
            "  FutureWarning)\n",
            "C:\\ProgramData\\Anaconda3\\lib\\site-packages\\sklearn\\linear_model\\logistic.py:432: FutureWarning: Default solver will be changed to 'lbfgs' in 0.22. Specify a solver to silence this warning.\n",
            "  FutureWarning)\n",
            "C:\\ProgramData\\Anaconda3\\lib\\site-packages\\sklearn\\linear_model\\logistic.py:432: FutureWarning: Default solver will be changed to 'lbfgs' in 0.22. Specify a solver to silence this warning.\n",
            "  FutureWarning)\n",
            "C:\\ProgramData\\Anaconda3\\lib\\site-packages\\sklearn\\linear_model\\logistic.py:432: FutureWarning: Default solver will be changed to 'lbfgs' in 0.22. Specify a solver to silence this warning.\n",
            "  FutureWarning)\n",
            "C:\\ProgramData\\Anaconda3\\lib\\site-packages\\sklearn\\linear_model\\logistic.py:432: FutureWarning: Default solver will be changed to 'lbfgs' in 0.22. Specify a solver to silence this warning.\n",
            "  FutureWarning)\n"
          ],
          "name": "stderr"
        },
        {
          "output_type": "stream",
          "text": [
            "Num Feature:10\n",
            "selected Features:[False False False False False False False False  True  True False  True\n",
            "  True  True False False False  True False False False  True False False\n",
            " False False  True False False False False False False False False  True\n",
            " False False False False False False False False False False False  True]\n",
            "Feature Ranking:[19  7 20 39 34 28 35 12  1  1 27  1  1  1  2  6  3  1 11 32 22  1  5 23\n",
            " 37  8  1 17 30  4 36  9 26 31 33  1 25 24 29 21 10 16 38 14 13 15 18  1]\n"
          ],
          "name": "stdout"
        },
        {
          "output_type": "stream",
          "text": [
            "C:\\ProgramData\\Anaconda3\\lib\\site-packages\\sklearn\\linear_model\\logistic.py:432: FutureWarning: Default solver will be changed to 'lbfgs' in 0.22. Specify a solver to silence this warning.\n",
            "  FutureWarning)\n",
            "C:\\ProgramData\\Anaconda3\\lib\\site-packages\\sklearn\\linear_model\\logistic.py:432: FutureWarning: Default solver will be changed to 'lbfgs' in 0.22. Specify a solver to silence this warning.\n",
            "  FutureWarning)\n",
            "C:\\ProgramData\\Anaconda3\\lib\\site-packages\\sklearn\\linear_model\\logistic.py:432: FutureWarning: Default solver will be changed to 'lbfgs' in 0.22. Specify a solver to silence this warning.\n",
            "  FutureWarning)\n",
            "C:\\ProgramData\\Anaconda3\\lib\\site-packages\\sklearn\\linear_model\\logistic.py:432: FutureWarning: Default solver will be changed to 'lbfgs' in 0.22. Specify a solver to silence this warning.\n",
            "  FutureWarning)\n",
            "C:\\ProgramData\\Anaconda3\\lib\\site-packages\\sklearn\\linear_model\\logistic.py:432: FutureWarning: Default solver will be changed to 'lbfgs' in 0.22. Specify a solver to silence this warning.\n",
            "  FutureWarning)\n",
            "C:\\ProgramData\\Anaconda3\\lib\\site-packages\\sklearn\\linear_model\\logistic.py:432: FutureWarning: Default solver will be changed to 'lbfgs' in 0.22. Specify a solver to silence this warning.\n",
            "  FutureWarning)\n",
            "C:\\ProgramData\\Anaconda3\\lib\\site-packages\\sklearn\\linear_model\\logistic.py:432: FutureWarning: Default solver will be changed to 'lbfgs' in 0.22. Specify a solver to silence this warning.\n",
            "  FutureWarning)\n",
            "C:\\ProgramData\\Anaconda3\\lib\\site-packages\\sklearn\\linear_model\\logistic.py:432: FutureWarning: Default solver will be changed to 'lbfgs' in 0.22. Specify a solver to silence this warning.\n",
            "  FutureWarning)\n",
            "C:\\ProgramData\\Anaconda3\\lib\\site-packages\\sklearn\\linear_model\\logistic.py:432: FutureWarning: Default solver will be changed to 'lbfgs' in 0.22. Specify a solver to silence this warning.\n",
            "  FutureWarning)\n",
            "C:\\ProgramData\\Anaconda3\\lib\\site-packages\\sklearn\\linear_model\\logistic.py:432: FutureWarning: Default solver will be changed to 'lbfgs' in 0.22. Specify a solver to silence this warning.\n",
            "  FutureWarning)\n",
            "C:\\ProgramData\\Anaconda3\\lib\\site-packages\\sklearn\\linear_model\\logistic.py:432: FutureWarning: Default solver will be changed to 'lbfgs' in 0.22. Specify a solver to silence this warning.\n",
            "  FutureWarning)\n",
            "C:\\ProgramData\\Anaconda3\\lib\\site-packages\\sklearn\\linear_model\\logistic.py:432: FutureWarning: Default solver will be changed to 'lbfgs' in 0.22. Specify a solver to silence this warning.\n",
            "  FutureWarning)\n",
            "C:\\ProgramData\\Anaconda3\\lib\\site-packages\\sklearn\\linear_model\\logistic.py:432: FutureWarning: Default solver will be changed to 'lbfgs' in 0.22. Specify a solver to silence this warning.\n",
            "  FutureWarning)\n"
          ],
          "name": "stderr"
        }
      ]
    },
    {
      "cell_type": "code",
      "metadata": {
        "id": "RpG5e-AvH_Em"
      },
      "source": [
        "imp_cols=fit.ranking_"
      ],
      "execution_count": null,
      "outputs": []
    },
    {
      "cell_type": "code",
      "metadata": {
        "id": "aqRRowAWH_En"
      },
      "source": [
        "imp_cols=list(imp_cols)"
      ],
      "execution_count": null,
      "outputs": []
    },
    {
      "cell_type": "code",
      "metadata": {
        "id": "Ha0gGnInH_En"
      },
      "source": [
        "imp_var_ind =[]\n",
        "for i in range(len(imp_cols)):\n",
        "    if imp_cols[i]==1:\n",
        "        imp_var_ind.append(i)"
      ],
      "execution_count": null,
      "outputs": []
    },
    {
      "cell_type": "code",
      "metadata": {
        "id": "20Shq59PH_En",
        "outputId": "f87bdfea-6a3f-4342-8192-a3e0c35fb3d1"
      },
      "source": [
        "imp_var_ind"
      ],
      "execution_count": null,
      "outputs": [
        {
          "output_type": "execute_result",
          "data": {
            "text/plain": [
              "[8, 9, 11, 12, 13, 17, 21, 26, 35, 47]"
            ]
          },
          "metadata": {
            "tags": []
          },
          "execution_count": 49
        }
      ]
    },
    {
      "cell_type": "code",
      "metadata": {
        "id": "E1T65XStH_Eo"
      },
      "source": [
        "var_list=x_train_transform_smot.columns"
      ],
      "execution_count": null,
      "outputs": []
    },
    {
      "cell_type": "code",
      "metadata": {
        "id": "ShjzgDU5H_Eo",
        "outputId": "8e078d8b-f9e1-4301-ee08-8bf2df15216e"
      },
      "source": [
        "x_train_transform_smot.head()"
      ],
      "execution_count": null,
      "outputs": [
        {
          "output_type": "execute_result",
          "data": {
            "text/html": [
              "<div>\n",
              "<style scoped>\n",
              "    .dataframe tbody tr th:only-of-type {\n",
              "        vertical-align: middle;\n",
              "    }\n",
              "\n",
              "    .dataframe tbody tr th {\n",
              "        vertical-align: top;\n",
              "    }\n",
              "\n",
              "    .dataframe thead th {\n",
              "        text-align: right;\n",
              "    }\n",
              "</style>\n",
              "<table border=\"1\" class=\"dataframe\">\n",
              "  <thead>\n",
              "    <tr style=\"text-align: right;\">\n",
              "      <th></th>\n",
              "      <th>0</th>\n",
              "      <th>1</th>\n",
              "      <th>2</th>\n",
              "      <th>3</th>\n",
              "      <th>4</th>\n",
              "      <th>5</th>\n",
              "      <th>6</th>\n",
              "      <th>7</th>\n",
              "      <th>8</th>\n",
              "      <th>9</th>\n",
              "      <th>...</th>\n",
              "      <th>38</th>\n",
              "      <th>39</th>\n",
              "      <th>40</th>\n",
              "      <th>41</th>\n",
              "      <th>42</th>\n",
              "      <th>43</th>\n",
              "      <th>44</th>\n",
              "      <th>45</th>\n",
              "      <th>46</th>\n",
              "      <th>47</th>\n",
              "    </tr>\n",
              "  </thead>\n",
              "  <tbody>\n",
              "    <tr>\n",
              "      <td>0</td>\n",
              "      <td>-0.333496</td>\n",
              "      <td>0.253496</td>\n",
              "      <td>0.008945</td>\n",
              "      <td>-0.753007</td>\n",
              "      <td>-0.413469</td>\n",
              "      <td>-0.706372</td>\n",
              "      <td>2.323790</td>\n",
              "      <td>0.0</td>\n",
              "      <td>0.0</td>\n",
              "      <td>1.0</td>\n",
              "      <td>...</td>\n",
              "      <td>0.0</td>\n",
              "      <td>0.0</td>\n",
              "      <td>1.0</td>\n",
              "      <td>1.0</td>\n",
              "      <td>0.0</td>\n",
              "      <td>0.0</td>\n",
              "      <td>1.0</td>\n",
              "      <td>0.0</td>\n",
              "      <td>1.0</td>\n",
              "      <td>0.0</td>\n",
              "    </tr>\n",
              "    <tr>\n",
              "      <td>1</td>\n",
              "      <td>-0.513312</td>\n",
              "      <td>-0.243758</td>\n",
              "      <td>0.903408</td>\n",
              "      <td>-0.753007</td>\n",
              "      <td>-1.033728</td>\n",
              "      <td>1.016486</td>\n",
              "      <td>-0.430331</td>\n",
              "      <td>0.0</td>\n",
              "      <td>0.0</td>\n",
              "      <td>1.0</td>\n",
              "      <td>...</td>\n",
              "      <td>0.0</td>\n",
              "      <td>0.0</td>\n",
              "      <td>1.0</td>\n",
              "      <td>1.0</td>\n",
              "      <td>0.0</td>\n",
              "      <td>0.0</td>\n",
              "      <td>1.0</td>\n",
              "      <td>0.0</td>\n",
              "      <td>0.0</td>\n",
              "      <td>0.0</td>\n",
              "    </tr>\n",
              "    <tr>\n",
              "      <td>2</td>\n",
              "      <td>1.240581</td>\n",
              "      <td>0.253496</td>\n",
              "      <td>-0.885518</td>\n",
              "      <td>-1.649445</td>\n",
              "      <td>1.713134</td>\n",
              "      <td>-0.706372</td>\n",
              "      <td>-0.430331</td>\n",
              "      <td>0.0</td>\n",
              "      <td>0.0</td>\n",
              "      <td>0.0</td>\n",
              "      <td>...</td>\n",
              "      <td>0.0</td>\n",
              "      <td>0.0</td>\n",
              "      <td>0.0</td>\n",
              "      <td>1.0</td>\n",
              "      <td>0.0</td>\n",
              "      <td>0.0</td>\n",
              "      <td>1.0</td>\n",
              "      <td>0.0</td>\n",
              "      <td>1.0</td>\n",
              "      <td>0.0</td>\n",
              "    </tr>\n",
              "    <tr>\n",
              "      <td>3</td>\n",
              "      <td>-0.659585</td>\n",
              "      <td>0.253496</td>\n",
              "      <td>0.903408</td>\n",
              "      <td>-0.753007</td>\n",
              "      <td>1.004266</td>\n",
              "      <td>-0.706372</td>\n",
              "      <td>-0.430331</td>\n",
              "      <td>0.0</td>\n",
              "      <td>1.0</td>\n",
              "      <td>0.0</td>\n",
              "      <td>...</td>\n",
              "      <td>1.0</td>\n",
              "      <td>0.0</td>\n",
              "      <td>1.0</td>\n",
              "      <td>0.0</td>\n",
              "      <td>1.0</td>\n",
              "      <td>0.0</td>\n",
              "      <td>1.0</td>\n",
              "      <td>0.0</td>\n",
              "      <td>1.0</td>\n",
              "      <td>0.0</td>\n",
              "    </tr>\n",
              "    <tr>\n",
              "      <td>4</td>\n",
              "      <td>-0.456947</td>\n",
              "      <td>-0.741011</td>\n",
              "      <td>0.903408</td>\n",
              "      <td>-0.753007</td>\n",
              "      <td>-0.413469</td>\n",
              "      <td>1.016486</td>\n",
              "      <td>2.323790</td>\n",
              "      <td>0.0</td>\n",
              "      <td>0.0</td>\n",
              "      <td>1.0</td>\n",
              "      <td>...</td>\n",
              "      <td>0.0</td>\n",
              "      <td>0.0</td>\n",
              "      <td>1.0</td>\n",
              "      <td>0.0</td>\n",
              "      <td>0.0</td>\n",
              "      <td>0.0</td>\n",
              "      <td>0.0</td>\n",
              "      <td>1.0</td>\n",
              "      <td>1.0</td>\n",
              "      <td>0.0</td>\n",
              "    </tr>\n",
              "  </tbody>\n",
              "</table>\n",
              "<p>5 rows × 48 columns</p>\n",
              "</div>"
            ],
            "text/plain": [
              "         0         1         2         3         4         5         6    7   \\\n",
              "0 -0.333496  0.253496  0.008945 -0.753007 -0.413469 -0.706372  2.323790  0.0   \n",
              "1 -0.513312 -0.243758  0.903408 -0.753007 -1.033728  1.016486 -0.430331  0.0   \n",
              "2  1.240581  0.253496 -0.885518 -1.649445  1.713134 -0.706372 -0.430331  0.0   \n",
              "3 -0.659585  0.253496  0.903408 -0.753007  1.004266 -0.706372 -0.430331  0.0   \n",
              "4 -0.456947 -0.741011  0.903408 -0.753007 -0.413469  1.016486  2.323790  0.0   \n",
              "\n",
              "    8    9   ...   38   39   40   41   42   43   44   45   46   47  \n",
              "0  0.0  1.0  ...  0.0  0.0  1.0  1.0  0.0  0.0  1.0  0.0  1.0  0.0  \n",
              "1  0.0  1.0  ...  0.0  0.0  1.0  1.0  0.0  0.0  1.0  0.0  0.0  0.0  \n",
              "2  0.0  0.0  ...  0.0  0.0  0.0  1.0  0.0  0.0  1.0  0.0  1.0  0.0  \n",
              "3  1.0  0.0  ...  1.0  0.0  1.0  0.0  1.0  0.0  1.0  0.0  1.0  0.0  \n",
              "4  0.0  1.0  ...  0.0  0.0  1.0  0.0  0.0  0.0  0.0  1.0  1.0  0.0  \n",
              "\n",
              "[5 rows x 48 columns]"
            ]
          },
          "metadata": {
            "tags": []
          },
          "execution_count": 54
        }
      ]
    },
    {
      "cell_type": "code",
      "metadata": {
        "id": "kGj6ZvW7H_Ep",
        "outputId": "00d2ba4c-3f97-43cd-8137-41da35584054"
      },
      "source": [
        "var_name=[]\n",
        "for i in imp_var_ind:\n",
        "    var_name.append(var_list[i])\n",
        "var_name"
      ],
      "execution_count": null,
      "outputs": [
        {
          "output_type": "execute_result",
          "data": {
            "text/plain": [
              "[8, 9, 11, 12, 13, 17, 21, 26, 35, 47]"
            ]
          },
          "metadata": {
            "tags": []
          },
          "execution_count": 53
        }
      ]
    }
  ]
}